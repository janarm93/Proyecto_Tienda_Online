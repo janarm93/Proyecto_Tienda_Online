{
 "cells": [
  {
   "cell_type": "markdown",
   "metadata": {},
   "source": [
    "## **Creación de una tienda online**"
   ]
  },
  {
   "cell_type": "code",
   "execution_count": 89,
   "metadata": {},
   "outputs": [],
   "source": [
    "class TiendaOnline:\n",
    "    def __init__(self):\n",
    "        self.inventario = [] #Será una lista de diccionarios. Tantos diccionarios como ítems inventario, con las claves nombre, precio y cantidad.\n",
    "        self.clientes = {} #Será un diccionario. Claves número cliente, valores: un diccionario con email (k): dirección email (v) y compras (k): (lista del historial de compras, v).\n",
    "        self.ventas_totales = 0.0\n",
    "\n",
    "\n",
    "#1. agregar_producto\n",
    "     \n",
    "    def agregar_producto (self, nombre, precio, cantidad):\n",
    "        for producto in self.inventario:\n",
    "            if producto[\"nombre\"] == nombre:\n",
    "                producto[\"cantidad\"] += cantidad\n",
    "                return\n",
    "        # Si no ha encontrado el producto, lo añade al inventario:\n",
    "        nuevo_producto = {\"nombre\": nombre, \"precio\": precio, \"cantidad\": cantidad}\n",
    "        self.inventario.append(nuevo_producto)\n",
    "\n",
    "\n",
    "#2. ver_inventario\n",
    "\n",
    "    def ver_inventario(self):\n",
    "        for producto in self.inventario:\n",
    "            print(f\"Nombre: {producto['nombre']}, Precio: {producto['precio']}, Cantidad: {producto['cantidad']}\")\n",
    "\n",
    "\n",
    "#3. buscar_producto\n",
    "\n",
    "    def buscar_producto(self, nombre):\n",
    "        for producto in self.inventario:\n",
    "            if producto[\"nombre\"] == nombre:\n",
    "                print(f\"Nombre: {producto['nombre']}, Precio: {producto['precio']}, Cantidad: {producto['cantidad']}\")\n",
    "                return\n",
    "        print(f\"El producto {nombre} no está disponible en el inventario.\")\n",
    "\n",
    "\n",
    "#4. actualizar_stock\n",
    "\n",
    "    def actualizar_stock(self, nombre, cantidad):\n",
    "        for producto in self.inventario:\n",
    "            if producto[\"nombre\"] == nombre:\n",
    "                producto[\"cantidad\"] += cantidad\n",
    "                print(f\"El producto {nombre} ha sido actualizado a {cantidad} unidades.\")\n",
    "                return\n",
    "        print(f\"El producto {nombre} no está en el inventario.\")\n",
    "\n",
    "\n",
    "#5. eliminar_producto   \n",
    "\n",
    "    def eliminar_producto(self, nombre):\n",
    "        for producto in self.inventario:\n",
    "            if producto[\"nombre\"] == nombre:\n",
    "                self.inventario.remove(producto)\n",
    "                print(f\"El producto {nombre} ha sido eliminado.\")\n",
    "                return\n",
    "        print(f\"{nombre} no está en el inventario.\")\n",
    "\n",
    "\n",
    "#6. calcular_valor_inventario\n",
    "    \n",
    "    def calcular_valor_inventario(self):\n",
    "        valor_inventario = 0\n",
    "        for producto in self.inventario:\n",
    "            valor_producto = (producto[\"precio\"] * producto[\"cantidad\"])\n",
    "            valor_inventario += valor_producto\n",
    "        print(f\"El valor total del inventario de la tienda es: {valor_inventario}€\")\n",
    "        return\n",
    "        #Está fuera del bucle for porque así iterará por cada producto antes de finalizar el bucle.\n",
    "        #Usamos return para usarlo como valor del inventario y no solo impriirlo (en cuyo caso usaríamos print())\n",
    "\n",
    "\n",
    "#7. realizar_compra\n",
    "\n",
    "    def realizar_compra(self):\n",
    "        carrito = {}\n",
    "        importe_total = 0.0\n",
    "        self.ver_inventario()\n",
    "        while True:\n",
    "            producto_cliente = input(\"Introduce el nombre del producto que quieres comprar o indica salir si quieres finalizar la compra:\")\n",
    "            if producto_cliente == \"salir\":\n",
    "                break\n",
    "            else:\n",
    "                cantidad_cliente = int(input(\"Introduce la cantidad de productos que quieres añadir al carrito:\"))\n",
    "                for producto in self.inventario:\n",
    "                    if producto_cliente == producto['nombre']:\n",
    "                        if producto_cliente not in carrito:\n",
    "                            if cantidad_cliente <= producto['cantidad']:\n",
    "                                carrito.update({'nombre': producto_cliente, 'cantidad': cantidad_cliente})\n",
    "                                print(f\"Has añadido {cantidad_cliente} unidades de {producto_cliente} al carrito.\")\n",
    "                                importe_total += (producto['precio'] * cantidad_cliente)\n",
    "                                print(f\"El coste total es de {importe_total}€.\")\n",
    "                                break\n",
    "                            elif cantidad_cliente > producto['cantidad']:\n",
    "                                print(f\"Lo sentimos, no hay tantas unidades de {producto_cliente} disponibles.\")\n",
    "                                break\n",
    "                        elif producto_cliente in carrito:\n",
    "                            if cantidad_cliente <= producto['cantidad']:\n",
    "                                carrito[producto_cliente] += cantidad_cliente\n",
    "                                print(f\"Has añadido {cantidad_cliente} unidades de {producto_cliente} al carrito.\")\n",
    "                                importe_total += (producto['precio'] * cantidad_cliente)\n",
    "                                print(f\"El coste total es de {importe_total}€.\")\n",
    "                                break\n",
    "                            elif cantidad_cliente > producto['cantidad']:\n",
    "                                print(f\"Lo sentimos, no hay tantas unidades disponibles.\")\n",
    "                                break\n",
    "                        break\n",
    "                else:\n",
    "                    print(\"Lo sentimos, el producto no está disponible.\")\n",
    "                    break"
   ]
  },
  {
   "cell_type": "code",
   "execution_count": 90,
   "metadata": {},
   "outputs": [],
   "source": [
    "#Creación objeto tienda_1.\n",
    "#Creamos el objeto tienda_1 vacío porque la definición de la clase no tiene atributos en el __init__, solo el self.\n",
    "\n",
    "tienda_1 = TiendaOnline() "
   ]
  },
  {
   "cell_type": "code",
   "execution_count": null,
   "metadata": {},
   "outputs": [
    {
     "data": {
      "text/plain": [
       "[]"
      ]
     },
     "execution_count": 91,
     "metadata": {},
     "output_type": "execute_result"
    }
   ],
   "source": [
    "#Comprobación atributo inventario inicial:\n",
    "\n",
    "tienda_1.inventario"
   ]
  },
  {
   "cell_type": "code",
   "execution_count": null,
   "metadata": {},
   "outputs": [
    {
     "data": {
      "text/plain": [
       "{}"
      ]
     },
     "execution_count": 92,
     "metadata": {},
     "output_type": "execute_result"
    }
   ],
   "source": [
    "#Comprobación atributo clientes inicial:\n",
    "\n",
    "tienda_1.clientes"
   ]
  },
  {
   "cell_type": "code",
   "execution_count": null,
   "metadata": {},
   "outputs": [
    {
     "data": {
      "text/plain": [
       "0.0"
      ]
     },
     "execution_count": 93,
     "metadata": {},
     "output_type": "execute_result"
    }
   ],
   "source": [
    "#Comprobación atributo ventas_totales inicial:\n",
    "\n",
    "tienda_1.ventas_totales"
   ]
  },
  {
   "cell_type": "code",
   "execution_count": null,
   "metadata": {},
   "outputs": [],
   "source": [
    "#Comprobación método 1:\n",
    "\n",
    "tienda_1.agregar_producto(\"Camisa\", 20, 20)\n",
    "tienda_1.agregar_producto(\"Pantalón\", 30, 30)\n",
    "tienda_1.agregar_producto(\"Zapatos\", 50, 40)"
   ]
  },
  {
   "cell_type": "code",
   "execution_count": null,
   "metadata": {},
   "outputs": [
    {
     "name": "stdout",
     "output_type": "stream",
     "text": [
      "Nombre: Camisa, Precio: 20, Cantidad: 20\n",
      "Nombre: Pantalón, Precio: 30, Cantidad: 30\n",
      "Nombre: Zapatos, Precio: 50, Cantidad: 40\n"
     ]
    }
   ],
   "source": [
    "#Comprobación método 2:\n",
    "\n",
    "tienda_1.ver_inventario()"
   ]
  },
  {
   "cell_type": "code",
   "execution_count": null,
   "metadata": {},
   "outputs": [
    {
     "name": "stdout",
     "output_type": "stream",
     "text": [
      "Nombre: Camisa, Precio: 20, Cantidad: 20\n",
      "El producto Falda no está disponible en el inventario.\n"
     ]
    }
   ],
   "source": [
    "#Comprobación método 3:\n",
    "\n",
    "tienda_1.buscar_producto(\"Camisa\") #Producto existente en el inventario.\n",
    "tienda_1.buscar_producto(\"Falda\") #Producto no encontrado en el inventario."
   ]
  },
  {
   "cell_type": "code",
   "execution_count": null,
   "metadata": {},
   "outputs": [
    {
     "name": "stdout",
     "output_type": "stream",
     "text": [
      "El producto Pantalón ha sido actualizado a 6 unidades.\n",
      "El producto Sombrero no está en el inventario.\n"
     ]
    }
   ],
   "source": [
    "#Comprobación método 4:\n",
    "\n",
    "tienda_1.actualizar_stock(\"Pantalón\", 6)\n",
    "tienda_1.actualizar_stock(\"Sombrero\", 4)"
   ]
  },
  {
   "cell_type": "code",
   "execution_count": null,
   "metadata": {},
   "outputs": [
    {
     "name": "stdout",
     "output_type": "stream",
     "text": [
      "El producto Pantalón ha sido eliminado.\n",
      "Sombrero no está en el inventario.\n"
     ]
    }
   ],
   "source": [
    "#Comprobación método 5:\n",
    "\n",
    "tienda_1.eliminar_producto(\"Pantalón\")\n",
    "tienda_1.eliminar_producto(\"Sombrero\")"
   ]
  },
  {
   "cell_type": "code",
   "execution_count": null,
   "metadata": {},
   "outputs": [
    {
     "name": "stdout",
     "output_type": "stream",
     "text": [
      "El valor total del inventario de la tienda es: 2400€\n"
     ]
    }
   ],
   "source": [
    "#Comprobación método 6:\n",
    "\n",
    "tienda_1.calcular_valor_inventario()"
   ]
  },
  {
   "cell_type": "code",
   "execution_count": null,
   "metadata": {},
   "outputs": [
    {
     "name": "stdout",
     "output_type": "stream",
     "text": [
      "Nombre: Camisa, Precio: 20, Cantidad: 20\n",
      "Nombre: Zapatos, Precio: 50, Cantidad: 40\n",
      "Has añadido 9 unidades de Camisa al carrito.\n",
      "El coste total es de 180.0€.\n"
     ]
    }
   ],
   "source": [
    "#Comprobación método 7:\n",
    "\n",
    "tienda_1.realizar_compra()"
   ]
  }
 ],
 "metadata": {
  "kernelspec": {
   "display_name": "Python 3",
   "language": "python",
   "name": "python3"
  },
  "language_info": {
   "codemirror_mode": {
    "name": "ipython",
    "version": 3
   },
   "file_extension": ".py",
   "mimetype": "text/x-python",
   "name": "python",
   "nbconvert_exporter": "python",
   "pygments_lexer": "ipython3",
   "version": "3.9.6"
  }
 },
 "nbformat": 4,
 "nbformat_minor": 2
}
